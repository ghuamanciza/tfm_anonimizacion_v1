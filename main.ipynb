{
 "cells": [
  {
   "cell_type": "code",
   "execution_count": 4,
   "id": "6b3bffb2",
   "metadata": {},
   "outputs": [],
   "source": [
    "import pypdf\n",
    "import fitz # PyMuPDF"
   ]
  },
  {
   "cell_type": "code",
   "execution_count": 5,
   "id": "d596790b-2876-41c3-9367-002d205d9c04",
   "metadata": {
    "tags": []
   },
   "outputs": [],
   "source": [
    "def extract_text_from_pdf(pdf_path):\n",
    "    text = \"\"\n",
    "    try:\n",
    "        # Usando pypdf para PDFs nativos\n",
    "        reader = pypdf.PdfReader(pdf_path)\n",
    "        for page_num in range(len(reader.pages)):\n",
    "            text += reader.pages[page_num].extract_text() + \"\\n\"\n",
    "    except Exception as e:\n",
    "        print(f\"Error con pypdf, intentando con PyMuPDF: {e}\")\n",
    "        try:\n",
    "            # Usando PyMuPDF para más robustez o coordenadas\n",
    "            doc = fitz.open(pdf_path)\n",
    "            for page in doc:\n",
    "                text += page.get_text(\"text\") + \"\\n\" # \"text\" para texto simple, \"words\" para coordenadas\n",
    "            doc.close()\n",
    "        except Exception as e:\n",
    "            print(f\"Error con PyMuPDF: {e}\")\n",
    "            # Si falla, podría ser un PDF escaneado\n",
    "            # Aquí iría la lógica para OCR (ver siguiente sección)\n",
    "    return text"
   ]
  },
  {
   "cell_type": "code",
   "execution_count": 6,
   "id": "70979801",
   "metadata": {},
   "outputs": [
    {
     "name": "stderr",
     "output_type": "stream",
     "text": [
      "incorrect startxref pointer(1)\n",
      "parsing for Object Streams\n"
     ]
    },
    {
     "data": {
      "text/plain": [
       "'JUZGADO PENAL UNIPERSONAL - SEDE NCPP EL AGUSTINO \\nEXPEDIENTE : 00341-2024-1-3203-JR-PE-02 \\nJUEZ   : LOAYZA SANCHEZ RUTH KARINA \\nESPECIALISTA : CONDORI ACUÑA HERBERTH \\nMINISTERIO PUBLICO : PRIMERA FISCALIA SEGUNDO DESPA CHO EL \\nAGUSTINO  \\nREPRESENTANTE : SIGUAS ZEGARRA, MONICA DEL ROSARIO \\nIMPUTADO : BRACAMONTE PEREZ, FREDDY SAMMY \\nDELITO  : OMISIÓN DE ASISTENCIA FAMILIAR \\nAGRAVIADO : BRACAMONTE SIGUAS, DYLAND CALEB \\n \\nRESOLUCIÓN NÚMERO UNO    \\nEl Agustino, veintiséis de diciembre  \\nDel dos mil veinticuatro. - \\n    \\n   AUTOS Y VISTOS : AVOCÁNDOSE  la suscrita conforme a \\nlo dispuesto en la Resolución Administrativa N°152- 2022-P-CSJLE-PJ; y al \\noficio con ingreso número 202583-2024 Téngase por r ecibido el expediente \\nprincipal proveniente del Segundo Juzgado de Invest igación Preparatoria \\nde El Agustino, conteniendo la acusación presentada  por la Primera \\nfiscalía provincial Penal Corporativa de El Agustin o – Segundo despacho \\nde Investigación, y, ATENDIENDO :    \\n    \\nPRIMERO .- Que, de conformidad con el artículo 448.1 del Có digo \\nProcesal Penal, modificado por Decreto Legislativo N° 1194 (Proceso \\nInmediato en Casos de Flagrancia), recibidos los ac tuados del Segundo \\nJuzgado de Investigación Preparatoria de El Agustin o, corresponde a este \\nÓrgano Jurisdiccional, convocar a Audiencia Única d e Juicio Inmediato, a \\nfin de llevar a cabo la fase de control del requerimiento acusatorio y, de ser \\nel caso, la fase del Juicio Oral; en el proceso penal incoado contra FREDDY \\nSAMMY BRACAMONTE PEREZ , por el delito contra LA FAMILIA – \\nINCUMPLIMIENTO DE OBLIGACION ALIMENTARIA , en agravio \\ndel menor Dyland Caled Bracamonte Siguas, represent ada por su madre \\nMónica del Rosario Siguas Zegarra.  \\n        \\nSEGUNDO . – Que, mediante Resolución Administrativa N° 363- 2022-CE-\\nPJ el Consejo Ejecutivo del Poder Judicial establec e en el artículo tercero \\nnumeral 3.9 Las audiencias que se programen en los órganos \\njurisdiccionales, se llevarán a cabo de forma prese ncial; y, \\nexcepcionalmente, de manera virtual en la sede judi cial respectiva, sin \\nembargo mediante Resolución Administrativa N° 366-2 022-CE-PJ, el \\nmismo órgano de gobierno del Poder Judicial resuelv e precisar el numeral \\n3.9 de la Resolución Administrativa N° 363-2022-CE- PJ, cuyo texto es el \\nsiguiente “ Los jueces y juezas llevaran a cabo las  audiencias desde el \\ndespacho judicial respectivo pudiendo estas desarro llarse de forma \\npresencial o virtual; según sea el caso.”  \\n      \\nTERCERO . - En ese sentido, a fin de asegurar la presencia virtual \\nobligatoria de las partes procesales, debe señalars e los apercibimientos \\ncorrespondientes, debiendo los oferentes de sus órg anos de prueba \\ngarantizar su presencia conforme a Ley (art. 448.2 CPP); en tal sentido, este \\nJuzgado Penal Unipersonal Permanente de El Agustino RESUELVE:       \\n      \\n1)  CITAR a la AUDIENCIA ÚNICA DE JUICIO \\nINMEDIATO  en el presente proceso penal, para el día \\nVEINTINUEVE DE ENERO DEL DOS MIL VEINTICINCO A \\nLAS DIEZ DE LA MAÑANA – 10:00 A.M. (HORA EXACTA) , la \\ncual se llevará a cabo por video conferencia, a tra vés del aplicativo \\nGoogle hangouts meet, ID de enlace \\n \\n meet.google.com/cik-hqpb-imf \\n \\nEn caso de tener problemas de conexión a la platafo rma Google \\nhangouts meet podrán coordinar con el Especialista Judicial de \\nCausas Herberth Condori Acuña al teléfono 965403382. \\n      \\nEMPLAZAR  para la concurrencia obligatoria a la audiencia:   \\n   \\nA.  Al acusado FREDDY SAMMY BRACAMONTE PEREZ , debiendo \\nde notificársele en su domicilio real consignado en  autos y la de su \\nficha RENIEC; bajo expreso apercibimiento en caso d e \\ninconcurrencia injustificada del imputado de llevar se a cabo la \\naudiencia en su ausencia o con la presencia de su a bogado defensor \\nparticular, y en caso de inconcurrencia de éste, se  le nombrará \\nabogado de la defensa Pública del Ministerio de Jus ticia, quien \\nparticipará en la referida Audiencia, y ser declara do REO \\nCONTUMAZ  conforme lo señala el artículo 79 del Código Proce sal \\nPenal, disponiendo su inmediata ubicación y captura  en caso de \\ninconcurrencia injustificada.  \\n \\nB.  NOTIFÍQUESE  al abogado de la Defensa Pública, a fin de asista \\nlegalmente a los acusados en caso de no concurrir c on defensor \\nparticular.      \\n \\nC.  NOTIFIQUESE  Al representante del Ministerio Público, bajo \\napercibimiento de remitirse copias certificadas al Órgano de \\nControl del Ministerio Público, en caso de inconcur rencia \\ninjustificada.  \\n \\nD. \\n NOTIFIQUESE  al agraviado, en su domicilio real y procesal \\nconsignado en autos. \\n \\nE.  EXHORTAR  a las partes procesales, cumplan con señalar su ca silla \\nelectrónica de conformidad a lo señalado en el artí culo 155°-B y, D \\nde Ia de L.O.P.J.           \\n \\nF.  HACER PRESENTE  a las partes, que deberán comparecer a la \\naudiencia por la plataforma Google Hangouts Meet, C INCO \\nMINUTOS ANTES del inicio de la audiencia con el fin  de cumplir \\ncon la conferencia de preparación (Verificación de señal óptima, \\naudio y video activados).      \\n \\nG.  ESTABLECER  que la audiencia convocada es de carácter \\ninaplazable y de concurrencia obligatoria, por lo q ue las partes \\noferentes son las responsables de preparar y convocar a sus órganos \\nde prueba, garantizando su presencia en la audienci a una vez \\nadmitidos.    \\n \\nH.  NOTIFICAR  la presente resolución a los sujetos procesales \\n(acusado, abogado defensor, fiscal, agraviada y abo gado defensor \\nparticular a los domicilios señalados en autos), po r el medio más \\ncélere e idóneo (correo electrónico, teléfono u otr os), conforme lo \\ndispone el numeral 2 del artículo 129 del CPP, a fi n de que tomen \\nconocimiento de lo dispuesto y proporcionen, en el plazo de 24 \\nhoras de recibida la presente resolución, un número  de teléfono y \\nun correo Gmail. Avocándose al conocimiento de la p resente causa \\nel Especialista Cursor que suscribe por disposición superior.  \\n \\n'"
      ]
     },
     "execution_count": 6,
     "metadata": {},
     "output_type": "execute_result"
    }
   ],
   "source": [
    "extract_text_from_pdf(\"Resolucion_UNO_2025-01-03 14_09_09.271.pdf\")"
   ]
  }
 ],
 "metadata": {
  "kernelspec": {
   "display_name": "base",
   "language": "python",
   "name": "python3"
  },
  "language_info": {
   "codemirror_mode": {
    "name": "ipython",
    "version": 3
   },
   "file_extension": ".py",
   "mimetype": "text/x-python",
   "name": "python",
   "nbconvert_exporter": "python",
   "pygments_lexer": "ipython3",
   "version": "3.12.3"
  },
  "widgets": {
   "application/vnd.jupyter.widget-state+json": {
    "state": {},
    "version_major": 2,
    "version_minor": 0
   }
  }
 },
 "nbformat": 4,
 "nbformat_minor": 5
}
